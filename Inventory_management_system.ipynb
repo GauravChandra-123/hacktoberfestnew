{
  "nbformat": 4,
  "nbformat_minor": 0,
  "metadata": {
    "colab": {
      "name": "Inventory management system.ipynb",
      "provenance": [],
      "collapsed_sections": []
    },
    "kernelspec": {
      "name": "python3",
      "display_name": "Python 3"
    },
    "language_info": {
      "name": "python"
    }
  },
  "cells": [
    {
      "cell_type": "code",
      "metadata": {
        "id": "OXKNxEH4kTwA"
      },
      "source": [
        "import json"
      ],
      "execution_count": 42,
      "outputs": []
    },
    {
      "cell_type": "code",
      "metadata": {
        "id": "Mb-jHkoIm8qN"
      },
      "source": [
        "fd=open(\"record.json\",'r')\n",
        "record=fd.read()\n",
        "fd.close()"
      ],
      "execution_count": 43,
      "outputs": []
    },
    {
      "cell_type": "code",
      "metadata": {
        "colab": {
          "base_uri": "https://localhost:8080/",
          "height": 154
        },
        "id": "mH8BaQwpnGNe",
        "outputId": "a1369b6e-8518-467a-a317-0aadce6e011b"
      },
      "source": [
        "record"
      ],
      "execution_count": 8,
      "outputs": [
        {
          "output_type": "execute_result",
          "data": {
            "application/vnd.google.colaboratory.intrinsic+json": {
              "type": "string"
            },
            "text/plain": [
              "'61122560,fivestar,5,100,2020\\n61122561,munch,10,150,2021\\n61122562,kitkat,20,15,2022\\n61122563,diary milk ,50,10,2023\\n61122564,milkybar,5,100,2024\\n61122565,vim,200,220,2025\\n61122566,hamamsoap,350,120,2026\\n61122567,clinicplusshampoo,500,110,2022\\n61122568,surfacexcel,,100,2023\\n61122569,biscuit,5,250,2025\\n61122570,burbon,5,300,2023\\n61122571,oreo,5,210,2012\\n61122572,fiftyfifty,5,110,2021\\n61122573,goodday,5,100,2022\\n61122574,pad,50,100,2033\\n61122575,umbrella,500,100,2025\\n61122576,Nighty,1000,100,2026\\n61122577,tissuepaper,300,100,2035\\n61122578,pasta,250,120,2021\\n61122579,milkbiks,10,100,2030\\n61122580,lipstick,50,100,2030\\n61122581,straightener,5100,100,2025\\n61122582,noddles,100,100,2022\\n61122583,yipee,5,100,2023\\n61122584,cookies,5,100,2022\\n61122585,silk,500,100,2022\\n61122586,sunscreen,51,100,2026\\n61122587,fanta,52,100,2021\\n61122588,spirit,53,100,2025\\n61122589,mango,54,100,2023\\n61122590,slice,100,250,2022\\n'"
            ]
          },
          "metadata": {},
          "execution_count": 8
        }
      ]
    },
    {
      "cell_type": "code",
      "metadata": {
        "colab": {
          "base_uri": "https://localhost:8080/"
        },
        "id": "lCeH8nYFwCNd",
        "outputId": "da811fa4-927e-4ac3-f20d-a4a28e4b88a2"
      },
      "source": [
        "record.split(\"\\n\")"
      ],
      "execution_count": 9,
      "outputs": [
        {
          "output_type": "execute_result",
          "data": {
            "text/plain": [
              "['61122560,fivestar,5,100,2020',\n",
              " '61122561,munch,10,150,2021',\n",
              " '61122562,kitkat,20,15,2022',\n",
              " '61122563,diary milk ,50,10,2023',\n",
              " '61122564,milkybar,5,100,2024',\n",
              " '61122565,vim,200,220,2025',\n",
              " '61122566,hamamsoap,350,120,2026',\n",
              " '61122567,clinicplusshampoo,500,110,2022',\n",
              " '61122568,surfacexcel,,100,2023',\n",
              " '61122569,biscuit,5,250,2025',\n",
              " '61122570,burbon,5,300,2023',\n",
              " '61122571,oreo,5,210,2012',\n",
              " '61122572,fiftyfifty,5,110,2021',\n",
              " '61122573,goodday,5,100,2022',\n",
              " '61122574,pad,50,100,2033',\n",
              " '61122575,umbrella,500,100,2025',\n",
              " '61122576,Nighty,1000,100,2026',\n",
              " '61122577,tissuepaper,300,100,2035',\n",
              " '61122578,pasta,250,120,2021',\n",
              " '61122579,milkbiks,10,100,2030',\n",
              " '61122580,lipstick,50,100,2030',\n",
              " '61122581,straightener,5100,100,2025',\n",
              " '61122582,noddles,100,100,2022',\n",
              " '61122583,yipee,5,100,2023',\n",
              " '61122584,cookies,5,100,2022',\n",
              " '61122585,silk,500,100,2022',\n",
              " '61122586,sunscreen,51,100,2026',\n",
              " '61122587,fanta,52,100,2021',\n",
              " '61122588,spirit,53,100,2025',\n",
              " '61122589,mango,54,100,2023',\n",
              " '61122590,slice,100,250,2022',\n",
              " '']"
            ]
          },
          "metadata": {},
          "execution_count": 9
        }
      ]
    },
    {
      "cell_type": "code",
      "metadata": {
        "id": "Lv1lv9ecx-4D"
      },
      "source": [
        "js=json.dumps(record)"
      ],
      "execution_count": 41,
      "outputs": []
    },
    {
      "cell_type": "code",
      "metadata": {
        "colab": {
          "base_uri": "https://localhost:8080/",
          "height": 171
        },
        "id": "TLAIL1u_yaE8",
        "outputId": "f8568313-697a-44e0-b1eb-df72b5ae3c20"
      },
      "source": [
        "js"
      ],
      "execution_count": 11,
      "outputs": [
        {
          "output_type": "execute_result",
          "data": {
            "application/vnd.google.colaboratory.intrinsic+json": {
              "type": "string"
            },
            "text/plain": [
              "'\"61122560,fivestar,5,100,2020\\\\n61122561,munch,10,150,2021\\\\n61122562,kitkat,20,15,2022\\\\n61122563,diary milk ,50,10,2023\\\\n61122564,milkybar,5,100,2024\\\\n61122565,vim,200,220,2025\\\\n61122566,hamamsoap,350,120,2026\\\\n61122567,clinicplusshampoo,500,110,2022\\\\n61122568,surfacexcel,,100,2023\\\\n61122569,biscuit,5,250,2025\\\\n61122570,burbon,5,300,2023\\\\n61122571,oreo,5,210,2012\\\\n61122572,fiftyfifty,5,110,2021\\\\n61122573,goodday,5,100,2022\\\\n61122574,pad,50,100,2033\\\\n61122575,umbrella,500,100,2025\\\\n61122576,Nighty,1000,100,2026\\\\n61122577,tissuepaper,300,100,2035\\\\n61122578,pasta,250,120,2021\\\\n61122579,milkbiks,10,100,2030\\\\n61122580,lipstick,50,100,2030\\\\n61122581,straightener,5100,100,2025\\\\n61122582,noddles,100,100,2022\\\\n61122583,yipee,5,100,2023\\\\n61122584,cookies,5,100,2022\\\\n61122585,silk,500,100,2022\\\\n61122586,sunscreen,51,100,2026\\\\n61122587,fanta,52,100,2021\\\\n61122588,spirit,53,100,2025\\\\n61122589,mango,54,100,2023\\\\n61122590,slice,100,250,2022\\\\n\"'"
            ]
          },
          "metadata": {},
          "execution_count": 11
        }
      ]
    },
    {
      "cell_type": "code",
      "metadata": {
        "id": "6EwNTxHNyhjN"
      },
      "source": [
        "fd=open(\"record.json\",'w')\n",
        "fd.write(js)\n",
        "fd.close()"
      ],
      "execution_count": 40,
      "outputs": []
    },
    {
      "cell_type": "code",
      "metadata": {
        "id": "dYKONLwWzJtO"
      },
      "source": [
        "products=record.split(\"\\n\")"
      ],
      "execution_count": 12,
      "outputs": []
    },
    {
      "cell_type": "code",
      "metadata": {
        "colab": {
          "base_uri": "https://localhost:8080/"
        },
        "id": "G17DId_vQQqV",
        "outputId": "9c4ba452-a2be-45a5-bd53-e3775db191d9"
      },
      "source": [
        "for product in products:\n",
        "  print(product.split(\",\"))"
      ],
      "execution_count": 19,
      "outputs": [
        {
          "output_type": "stream",
          "name": "stdout",
          "text": [
            "['61122560', 'fivestar', '5', '100', '2020']\n",
            "['61122561', 'munch', '10', '150', '2021']\n",
            "['61122562', 'kitkat', '20', '15', '2022']\n",
            "['61122563', 'diary milk ', '50', '10', '2023']\n",
            "['61122564', 'milkybar', '5', '100', '2024']\n",
            "['61122565', 'vim', '200', '220', '2025']\n",
            "['61122566', 'hamamsoap', '350', '120', '2026']\n",
            "['61122567', 'clinicplusshampoo', '500', '110', '2022']\n",
            "['61122568', 'surfacexcel', '', '100', '2023']\n",
            "['61122569', 'biscuit', '5', '250', '2025']\n",
            "['61122570', 'burbon', '5', '300', '2023']\n",
            "['61122571', 'oreo', '5', '210', '2012']\n",
            "['61122572', 'fiftyfifty', '5', '110', '2021']\n",
            "['61122573', 'goodday', '5', '100', '2022']\n",
            "['61122574', 'pad', '50', '100', '2033']\n",
            "['61122575', 'umbrella', '500', '100', '2025']\n",
            "['61122576', 'Nighty', '1000', '100', '2026']\n",
            "['61122577', 'tissuepaper', '300', '100', '2035']\n",
            "['61122578', 'pasta', '250', '120', '2021']\n",
            "['61122579', 'milkbiks', '10', '100', '2030']\n",
            "['61122580', 'lipstick', '50', '100', '2030']\n",
            "['61122581', 'straightener', '5100', '100', '2025']\n",
            "['61122582', 'noddles', '100', '100', '2022']\n",
            "['61122583', 'yipee', '5', '100', '2023']\n",
            "['61122584', 'cookies', '5', '100', '2022']\n",
            "['61122585', 'silk', '500', '100', '2022']\n",
            "['61122586', 'sunscreen', '51', '100', '2026']\n",
            "['61122587', 'fanta', '52', '100', '2021']\n",
            "['61122588', 'spirit', '53', '100', '2025']\n",
            "['61122589', 'mango', '54', '100', '2023']\n",
            "['61122590', 'slice', '100', '250', '2022']\n",
            "['']\n"
          ]
        }
      ]
    },
    {
      "cell_type": "code",
      "metadata": {
        "id": "pJajhPWlzrF0",
        "colab": {
          "base_uri": "https://localhost:8080/"
        },
        "outputId": "a92a9bd0-2868-4fb0-d7d6-17bee89be2e0"
      },
      "source": [
        "ui_prod=str(input(\"Enter product id:\"))\n",
        "ui_quant=int(input(\"Enter product qt:\"))\n",
        "\n",
        "for product in products:\n",
        "    prod=product.split(\",\")\n",
        "    \n",
        "    if(ui_prod==prod[0]):\n",
        "        print(\"*******************\")\n",
        "        print(\"Product ID:\",prod[0])\n",
        "        print(\"Product Name:\",prod[1])\n",
        "        print(\"Quantity:\",ui_quant)\n",
        "        print(\"Price:\",prod[2])\n",
        "        print(\"-------------------\")\n",
        "        print(\"Billing amount:\",ui_quant*int(prod[2]))\n",
        "        print(\"*********************\")\n",
        "    \n",
        "\n",
        "        \n",
        "\n"
      ],
      "execution_count": 25,
      "outputs": [
        {
          "output_type": "stream",
          "name": "stdout",
          "text": [
            "Enter product id:61122560\n",
            "Enter product qt:100\n",
            "*******************\n",
            "Product ID: 61122560\n",
            "Product Name: fivestar\n",
            "Quantity: 100\n",
            "Price: 5\n",
            "-------------------\n",
            "Billing amount: 500\n",
            "*********************\n"
          ]
        }
      ]
    },
    {
      "cell_type": "code",
      "metadata": {
        "colab": {
          "base_uri": "https://localhost:8080/"
        },
        "id": "6NLvZbOQQ6li",
        "outputId": "c059718e-64eb-4fa8-b99f-88098d982e30"
      },
      "source": [
        "ui_prod=str(input(\"Enter product id:\"))\n",
        "ui_quant=int(input(\"Enter product qt:\"))\n",
        "\n",
        "\n",
        "products=record.split(\"\\n\")\n",
        "new_data=[]\n",
        "\n",
        "for product in products:\n",
        "    prod=product.split(\",\")\n",
        "    if(ui_prod==prod[0]):\n",
        "        print(int(prod[3])-ui_quant)\n",
        "        print(prod)"
      ],
      "execution_count": 24,
      "outputs": [
        {
          "output_type": "stream",
          "name": "stdout",
          "text": [
            "Enter product id:61122560\n",
            "Enter product qt:100\n",
            "0\n",
            "['61122560', 'fivestar', '5', '100', '2020']\n"
          ]
        }
      ]
    },
    {
      "cell_type": "code",
      "metadata": {
        "colab": {
          "base_uri": "https://localhost:8080/",
          "height": 231
        },
        "id": "waPJRQLtU3WY",
        "outputId": "cf9a3fd9-004b-4574-b7f5-a54e86c1a84b"
      },
      "source": [
        "ui_prod=str(input(\"Enter product id:\"))\n",
        "ui_quant=int(input(\"Enter product qt:\"))\n",
        "\n",
        "\n",
        "products=record.split(\"\\n\")\n",
        "new_data=[]\n",
        "\n",
        "for product in products:\n",
        "    prod=product.split(\",\")\n",
        "    if(ui_prod==prod[0]):\n",
        "        new_data.append(prod[0]+\",\"+prod[1]+\",\"+prod[2]+\",\"+str(int(prod[3])-ui_quant))\n",
        "    else:\n",
        "         new_data.append(prod[0]+\",\"+prod[1]+\",\"+prod[2]+\",\"+str(int(prod[3])))"
      ],
      "execution_count": 36,
      "outputs": [
        {
          "name": "stdout",
          "output_type": "stream",
          "text": [
            "Enter product id:61122561\n",
            "Enter product qt:150\n"
          ]
        },
        {
          "output_type": "error",
          "ename": "IndexError",
          "evalue": "ignored",
          "traceback": [
            "\u001b[0;31m---------------------------------------------------------------------------\u001b[0m",
            "\u001b[0;31mIndexError\u001b[0m                                Traceback (most recent call last)",
            "\u001b[0;32m<ipython-input-36-6b53763c6f39>\u001b[0m in \u001b[0;36m<module>\u001b[0;34m()\u001b[0m\n\u001b[1;32m     11\u001b[0m         \u001b[0mnew_data\u001b[0m\u001b[0;34m.\u001b[0m\u001b[0mappend\u001b[0m\u001b[0;34m(\u001b[0m\u001b[0mprod\u001b[0m\u001b[0;34m[\u001b[0m\u001b[0;36m0\u001b[0m\u001b[0;34m]\u001b[0m\u001b[0;34m+\u001b[0m\u001b[0;34m\",\"\u001b[0m\u001b[0;34m+\u001b[0m\u001b[0mprod\u001b[0m\u001b[0;34m[\u001b[0m\u001b[0;36m1\u001b[0m\u001b[0;34m]\u001b[0m\u001b[0;34m+\u001b[0m\u001b[0;34m\",\"\u001b[0m\u001b[0;34m+\u001b[0m\u001b[0mprod\u001b[0m\u001b[0;34m[\u001b[0m\u001b[0;36m2\u001b[0m\u001b[0;34m]\u001b[0m\u001b[0;34m+\u001b[0m\u001b[0;34m\",\"\u001b[0m\u001b[0;34m+\u001b[0m\u001b[0mstr\u001b[0m\u001b[0;34m(\u001b[0m\u001b[0mint\u001b[0m\u001b[0;34m(\u001b[0m\u001b[0mprod\u001b[0m\u001b[0;34m[\u001b[0m\u001b[0;36m3\u001b[0m\u001b[0;34m]\u001b[0m\u001b[0;34m)\u001b[0m\u001b[0;34m-\u001b[0m\u001b[0mui_quant\u001b[0m\u001b[0;34m)\u001b[0m\u001b[0;34m)\u001b[0m\u001b[0;34m\u001b[0m\u001b[0;34m\u001b[0m\u001b[0m\n\u001b[1;32m     12\u001b[0m     \u001b[0;32melse\u001b[0m\u001b[0;34m:\u001b[0m\u001b[0;34m\u001b[0m\u001b[0;34m\u001b[0m\u001b[0m\n\u001b[0;32m---> 13\u001b[0;31m          \u001b[0mnew_data\u001b[0m\u001b[0;34m.\u001b[0m\u001b[0mappend\u001b[0m\u001b[0;34m(\u001b[0m\u001b[0mprod\u001b[0m\u001b[0;34m[\u001b[0m\u001b[0;36m0\u001b[0m\u001b[0;34m]\u001b[0m\u001b[0;34m+\u001b[0m\u001b[0;34m\",\"\u001b[0m\u001b[0;34m+\u001b[0m\u001b[0mprod\u001b[0m\u001b[0;34m[\u001b[0m\u001b[0;36m1\u001b[0m\u001b[0;34m]\u001b[0m\u001b[0;34m+\u001b[0m\u001b[0;34m\",\"\u001b[0m\u001b[0;34m+\u001b[0m\u001b[0mprod\u001b[0m\u001b[0;34m[\u001b[0m\u001b[0;36m2\u001b[0m\u001b[0;34m]\u001b[0m\u001b[0;34m+\u001b[0m\u001b[0;34m\",\"\u001b[0m\u001b[0;34m+\u001b[0m\u001b[0mstr\u001b[0m\u001b[0;34m(\u001b[0m\u001b[0mint\u001b[0m\u001b[0;34m(\u001b[0m\u001b[0mprod\u001b[0m\u001b[0;34m[\u001b[0m\u001b[0;36m3\u001b[0m\u001b[0;34m]\u001b[0m\u001b[0;34m)\u001b[0m\u001b[0;34m)\u001b[0m\u001b[0;34m)\u001b[0m\u001b[0;34m\u001b[0m\u001b[0;34m\u001b[0m\u001b[0m\n\u001b[0m",
            "\u001b[0;31mIndexError\u001b[0m: list index out of range"
          ]
        }
      ]
    },
    {
      "cell_type": "code",
      "metadata": {
        "id": "U70Sk2b1XOzZ"
      },
      "source": [
        "fd=open(\"record.json\",'w')\n",
        "fd.write(js)\n",
        "fd.close()"
      ],
      "execution_count": 37,
      "outputs": []
    },
    {
      "cell_type": "code",
      "metadata": {
        "id": "rDIZjKdmXeuT"
      },
      "source": [
        "fd=open(\"record.json\",'r')\n",
        "record=fd.read()\n",
        "fd.close()"
      ],
      "execution_count": 44,
      "outputs": []
    },
    {
      "cell_type": "code",
      "metadata": {
        "id": "Trdkkd0zYCEJ"
      },
      "source": [
        "record=json.loads(record)"
      ],
      "execution_count": 45,
      "outputs": []
    },
    {
      "cell_type": "code",
      "metadata": {
        "colab": {
          "base_uri": "https://localhost:8080/",
          "height": 154
        },
        "id": "GuLKTfy9YPHC",
        "outputId": "f6437f41-a8f7-40c5-81ce-86af54804deb"
      },
      "source": [
        "record"
      ],
      "execution_count": 46,
      "outputs": [
        {
          "output_type": "execute_result",
          "data": {
            "application/vnd.google.colaboratory.intrinsic+json": {
              "type": "string"
            },
            "text/plain": [
              "'61122560,fivestar,5,100,2020\\n61122561,munch,10,150,2021\\n61122562,kitkat,20,15,2022\\n61122563,diary milk ,50,10,2023\\n61122564,milkybar,5,100,2024\\n61122565,vim,200,220,2025\\n61122566,hamamsoap,350,120,2026\\n61122567,clinicplusshampoo,500,110,2022\\n61122568,surfacexcel,,100,2023\\n61122569,biscuit,5,250,2025\\n61122570,burbon,5,300,2023\\n61122571,oreo,5,210,2012\\n61122572,fiftyfifty,5,110,2021\\n61122573,goodday,5,100,2022\\n61122574,pad,50,100,2033\\n61122575,umbrella,500,100,2025\\n61122576,Nighty,1000,100,2026\\n61122577,tissuepaper,300,100,2035\\n61122578,pasta,250,120,2021\\n61122579,milkbiks,10,100,2030\\n61122580,lipstick,50,100,2030\\n61122581,straightener,5100,100,2025\\n61122582,noddles,100,100,2022\\n61122583,yipee,5,100,2023\\n61122584,cookies,5,100,2022\\n61122585,silk,500,100,2022\\n61122586,sunscreen,51,100,2026\\n61122587,fanta,52,100,2021\\n61122588,spirit,53,100,2025\\n61122589,mango,54,100,2023\\n61122590,slice,100,250,2022\\n'"
            ]
          },
          "metadata": {},
          "execution_count": 46
        }
      ]
    },
    {
      "cell_type": "code",
      "metadata": {
        "id": "_1CSiTcBYeOP"
      },
      "source": [
        "import time"
      ],
      "execution_count": 49,
      "outputs": []
    },
    {
      "cell_type": "code",
      "metadata": {
        "colab": {
          "base_uri": "https://localhost:8080/",
          "height": 35
        },
        "id": "K22r-K7DYg6b",
        "outputId": "27eb0182-f101-4d3a-cc62-fa13c0c4c4e9"
      },
      "source": [
        "time.ctime()"
      ],
      "execution_count": 50,
      "outputs": [
        {
          "output_type": "execute_result",
          "data": {
            "application/vnd.google.colaboratory.intrinsic+json": {
              "type": "string"
            },
            "text/plain": [
              "'Wed Sep  1 17:23:30 2021'"
            ]
          },
          "metadata": {},
          "execution_count": 50
        }
      ]
    }
  ]
}