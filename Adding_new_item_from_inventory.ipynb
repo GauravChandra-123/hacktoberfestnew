{
  "nbformat": 4,
  "nbformat_minor": 0,
  "metadata": {
    "colab": {
      "name": "Adding new item from inventory.ipynb",
      "provenance": []
    },
    "kernelspec": {
      "name": "python3",
      "display_name": "Python 3"
    },
    "language_info": {
      "name": "python"
    }
  },
  "cells": [
    {
      "cell_type": "markdown",
      "metadata": {
        "id": "adJyiWnEG5f5"
      },
      "source": [
        "Read data from **json**"
      ]
    },
    {
      "cell_type": "code",
      "metadata": {
        "id": "mLxPrIWuG-wi"
      },
      "source": [
        "fd=open(\"record.json\",'r')\n",
        "r=fd.read()\n",
        "fd.close()"
      ],
      "execution_count": 2,
      "outputs": []
    },
    {
      "cell_type": "code",
      "metadata": {
        "colab": {
          "base_uri": "https://localhost:8080/",
          "height": 137
        },
        "id": "y-ykGPqiHI5E",
        "outputId": "e17a4f42-a159-4983-f4d2-abbf53ff2902"
      },
      "source": [
        "r"
      ],
      "execution_count": 3,
      "outputs": [
        {
          "output_type": "execute_result",
          "data": {
            "application/vnd.google.colaboratory.intrinsic+json": {
              "type": "string"
            },
            "text/plain": [
              "'{\"1001\": {\"name\": \"Choco Cake\", \"qn\": 34, \"pr\": 100,\"phno\":81234567,\"exp\":2020}, \"1002\": {\"name\": \"Milk Cake\", \"pr\": 800, \"qn\": 100,\"phno\":812323567,\"exp\":2023}, \"1003\": {\"name\": \"Drink\", \"pr\": 85, \"qn\": 100,\"phno\":812323567,\"exp\":2024}, \"1004\": {\"name\": \"Candy\", \"pr\": 5, \"qn\": 1000,\"phno\":8123235673,\"exp\":2025}, \"1005\": {\"name\": \"Pen\", \"pr\": 20, \"qn\": 100,\"phno\":912323567,\"exp\":2025}, \"1006\": {\"name\": \"Phone\", \"pr\": 50000, \"qn\": 10,\"phno\":712323567,\"exp\":2021}, \"1007\": {\"name\": \"Mic\", \"pr\": 1500, \"qn\": 0,\"phno\":612323567,\"exp\":2023}, \"1008\": {\"name\": \"Case\", \"pr\": 599, \"qn\": 5,\"phno\":98765337,\"exp\":2020},  \"1009\": {\"name\": \"ball\", \"pr\": 500, \"qn\": 50,\"phno\":2458765337,\"exp\":2030},  \"1010\": {\"name\": \"glass\", \"pr\": 1599, \"qn\": 500,\"phno\":98765337,\"exp\":2036},  \"1011\": {\"name\": \"Coke\", \"pr\": 199, \"qn\": 50,\"phno\":78765337,\"exp\":2025}, \"1012\": {\"name\": \"Book\", \"pr\": 150, \"qn\": 10,\"phno\":778765337,\"exp\":2056}, \"1013\": {\"name\": \"shirt\", \"pr\": 299, \"qn\": 50,\"phno\":978765337,\"exp\":2055}, \"1014\": {\"name\": \"Doll\", \"pr\": 399, \"qn\": 50,\"phno\":878765337,\"exp\":2050}, \"1015\": {\"name\": \"charger\", \"pr\": 599, \"qn\": 50,\"phno\":178765337,\"exp\":2045}, \"1016\": {\"name\": \"guitar\", \"pr\": 1099, \"qn\": 50,\"phno\":278765337,\"exp\":2035}, \"1017\": {\"name\": \"camera\", \"pr\": 1099, \"qn\": 50,\"phno\":278765337,\"exp\":2035}, \"1018\": {\"name\": \"Biscuit\", \"pr\": 5, \"qn\": 50,\"phno\":9188765337,\"exp\":2035}, \"1019\": {\"name\": \"Diarymilk\", \"pr\": 100, \"qn\": 50,\"phno\":871165337,\"exp\":2035}, \"1020\": {\"name\": \"Milkybar\", \"pr\": 10, \"qn\": 50,\"phno\":98278765337,\"exp\":2035}}'"
            ]
          },
          "metadata": {},
          "execution_count": 3
        }
      ]
    },
    {
      "cell_type": "code",
      "metadata": {
        "colab": {
          "base_uri": "https://localhost:8080/"
        },
        "id": "6CQ-8g1sHKxg",
        "outputId": "d172f7a7-70bc-4c35-ad4b-19c314dd4eba"
      },
      "source": [
        "len(r)"
      ],
      "execution_count": 4,
      "outputs": [
        {
          "output_type": "execute_result",
          "data": {
            "text/plain": [
              "1540"
            ]
          },
          "metadata": {},
          "execution_count": 4
        }
      ]
    },
    {
      "cell_type": "code",
      "metadata": {
        "id": "ixr9eDR8IJPN"
      },
      "source": [
        "import json"
      ],
      "execution_count": 6,
      "outputs": []
    },
    {
      "cell_type": "code",
      "metadata": {
        "id": "Z70OcXuPHMXC"
      },
      "source": [
        "record=json.loads(r)"
      ],
      "execution_count": 7,
      "outputs": []
    },
    {
      "cell_type": "code",
      "metadata": {
        "colab": {
          "base_uri": "https://localhost:8080/"
        },
        "id": "Q3jO_pSbHQfA",
        "outputId": "eb8d2f86-5a9a-403b-d710-ee6ecf172d4a"
      },
      "source": [
        "prod_id=str(input(\"Enter product id: \"))\n",
        "name=str(input(\"Enter name:\"))\n",
        "pr=int(input(\"Enter price:\"))\n",
        "qn=int(input(\"Enter quantity:\"))\n",
        "phno=int(input(\"Enter phnno:\"))\n",
        "exp=int(input(\"Enter expiry date:\"))"
      ],
      "execution_count": 30,
      "outputs": [
        {
          "name": "stdout",
          "output_type": "stream",
          "text": [
            "Enter product id: 1030\n",
            "Enter name:doll\n",
            "Enter price:3500\n",
            "Enter quantity:200\n",
            "Enter phnno:4135778\n",
            "Enter expiry date:2022\n"
          ]
        }
      ]
    },
    {
      "cell_type": "code",
      "metadata": {
        "colab": {
          "base_uri": "https://localhost:8080/"
        },
        "id": "bK6NSBYXId3E",
        "outputId": "663b7eba-919f-45aa-fedd-ab492942a14b"
      },
      "source": [
        "{prod_id:{'name':name,'pr':pr,'qn':qn,'phno':phno,'exp':exp}}"
      ],
      "execution_count": 31,
      "outputs": [
        {
          "output_type": "execute_result",
          "data": {
            "text/plain": [
              "{'1030': {'exp': 2022, 'name': 'doll', 'phno': 4135778, 'pr': 3500, 'qn': 200}}"
            ]
          },
          "metadata": {},
          "execution_count": 31
        }
      ]
    },
    {
      "cell_type": "code",
      "metadata": {
        "id": "doqceHQwNQZ3"
      },
      "source": [
        "record[prod_id]={'name':name,'pr':pr,'qn':qn,'phno':phno,'exp':exp}"
      ],
      "execution_count": 33,
      "outputs": []
    },
    {
      "cell_type": "code",
      "metadata": {
        "colab": {
          "base_uri": "https://localhost:8080/"
        },
        "id": "NTdNONvaNaiL",
        "outputId": "478f2431-817f-4804-ff91-bbd6a4d8eefa"
      },
      "source": [
        "record[prod_id]"
      ],
      "execution_count": 34,
      "outputs": [
        {
          "output_type": "execute_result",
          "data": {
            "text/plain": [
              "{'exp': 2022, 'name': 'doll', 'phno': 4135778, 'pr': 3500, 'qn': 200}"
            ]
          },
          "metadata": {},
          "execution_count": 34
        }
      ]
    },
    {
      "cell_type": "markdown",
      "metadata": {
        "id": "_7xGGZdbNhSj"
      },
      "source": [
        "Add new item "
      ]
    },
    {
      "cell_type": "code",
      "metadata": {
        "colab": {
          "base_uri": "https://localhost:8080/"
        },
        "id": "OGsIh711Nk0_",
        "outputId": "1d5b913a-b63e-425f-93bb-89e402fa51ca"
      },
      "source": [
        "prod_id=str(input(\"Enter product id: \"))\n",
        "name=str(input(\"Enter name:\"))\n",
        "pr=int(input(\"Enter price:\"))\n",
        "qn=int(input(\"Enter quantity:\"))\n",
        "phno=int(input(\"Enter phnno:\"))\n",
        "exp=int(input(\"Enter expiry date:\"))\n",
        "record[prod_id]\n",
        "js=json.dumps(record)\n",
        "\n",
        "fd=open(\"record.json\",'w')\n",
        "fd.write(js)\n",
        "fd.close()"
      ],
      "execution_count": 37,
      "outputs": [
        {
          "name": "stdout",
          "output_type": "stream",
          "text": [
            "Enter product id: 1030\n",
            "Enter name:doll\n",
            "Enter price:500\n",
            "Enter quantity:200\n",
            "Enter phnno:92726433\n",
            "Enter expiry date:2020\n"
          ]
        }
      ]
    },
    {
      "cell_type": "code",
      "metadata": {
        "colab": {
          "base_uri": "https://localhost:8080/"
        },
        "id": "hD0K0LHYOo-R",
        "outputId": "58f1be85-85f5-4be8-cb55-a7652d59e802"
      },
      "source": [
        "record"
      ],
      "execution_count": 38,
      "outputs": [
        {
          "output_type": "execute_result",
          "data": {
            "text/plain": [
              "{'1001': {'exp': 2020,\n",
              "  'name': 'Choco Cake',\n",
              "  'phno': 81234567,\n",
              "  'pr': 100,\n",
              "  'qn': 34},\n",
              " '1002': {'exp': 2023,\n",
              "  'name': 'Milk Cake',\n",
              "  'phno': 812323567,\n",
              "  'pr': 800,\n",
              "  'qn': 100},\n",
              " '1003': {'exp': 2024,\n",
              "  'name': 'Drink',\n",
              "  'phno': 812323567,\n",
              "  'pr': 85,\n",
              "  'qn': 100},\n",
              " '1004': {'exp': 2025,\n",
              "  'name': 'Candy',\n",
              "  'phno': 8123235673,\n",
              "  'pr': 5,\n",
              "  'qn': 1000},\n",
              " '1005': {'exp': 2025, 'name': 'Pen', 'phno': 912323567, 'pr': 20, 'qn': 100},\n",
              " '1006': {'exp': 2021,\n",
              "  'name': 'Phone',\n",
              "  'phno': 712323567,\n",
              "  'pr': 50000,\n",
              "  'qn': 10},\n",
              " '1007': {'exp': 2023, 'name': 'Mic', 'phno': 612323567, 'pr': 1500, 'qn': 0},\n",
              " '1008': {'exp': 2020, 'name': 'Case', 'phno': 98765337, 'pr': 599, 'qn': 5},\n",
              " '1009': {'exp': 2030,\n",
              "  'name': 'ball',\n",
              "  'phno': 2458765337,\n",
              "  'pr': 500,\n",
              "  'qn': 50},\n",
              " '1010': {'exp': 2036,\n",
              "  'name': 'glass',\n",
              "  'phno': 98765337,\n",
              "  'pr': 1599,\n",
              "  'qn': 500},\n",
              " '1011': {'exp': 2025, 'name': 'Coke', 'phno': 78765337, 'pr': 199, 'qn': 50},\n",
              " '1012': {'exp': 2056, 'name': 'Book', 'phno': 778765337, 'pr': 150, 'qn': 10},\n",
              " '1013': {'exp': 2055,\n",
              "  'name': 'shirt',\n",
              "  'phno': 978765337,\n",
              "  'pr': 299,\n",
              "  'qn': 50},\n",
              " '1014': {'exp': 2050, 'name': 'Doll', 'phno': 878765337, 'pr': 399, 'qn': 50},\n",
              " '1015': {'exp': 2045,\n",
              "  'name': 'charger',\n",
              "  'phno': 178765337,\n",
              "  'pr': 599,\n",
              "  'qn': 50},\n",
              " '1016': {'exp': 2035,\n",
              "  'name': 'guitar',\n",
              "  'phno': 278765337,\n",
              "  'pr': 1099,\n",
              "  'qn': 50},\n",
              " '1017': {'exp': 2035,\n",
              "  'name': 'camera',\n",
              "  'phno': 278765337,\n",
              "  'pr': 1099,\n",
              "  'qn': 50},\n",
              " '1018': {'exp': 2035,\n",
              "  'name': 'Biscuit',\n",
              "  'phno': 9188765337,\n",
              "  'pr': 5,\n",
              "  'qn': 50},\n",
              " '1019': {'exp': 2035,\n",
              "  'name': 'Diarymilk',\n",
              "  'phno': 871165337,\n",
              "  'pr': 100,\n",
              "  'qn': 50},\n",
              " '1020': {'exp': 2035,\n",
              "  'name': 'Milkybar',\n",
              "  'phno': 98278765337,\n",
              "  'pr': 10,\n",
              "  'qn': 50},\n",
              " '1030': {'exp': 2022, 'name': 'doll', 'phno': 4135778, 'pr': 3500, 'qn': 200}}"
            ]
          },
          "metadata": {},
          "execution_count": 38
        }
      ]
    }
  ]
}